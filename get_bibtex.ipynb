{
 "metadata": {
  "name": ""
 },
 "nbformat": 3,
 "nbformat_minor": 0,
 "worksheets": [
  {
   "cells": [
    {
     "cell_type": "markdown",
     "metadata": {},
     "source": [
      "This notebook contains methods to read in a LatexUS bibliography and download the full BibTeX entry from InspireHEP."
     ]
    },
    {
     "cell_type": "code",
     "collapsed": false,
     "input": [
      "from BeautifulSoup import BeautifulSoup\n",
      "import urllib2\n",
      "import urllib"
     ],
     "language": "python",
     "metadata": {},
     "outputs": [],
     "prompt_number": 3
    },
    {
     "cell_type": "code",
     "collapsed": false,
     "input": [
      "def get_bibtex(citeid):\n",
      "    \"\"\"\n",
      "    Search inspire for citeid and return the corresponding BibTeX entry if found.\n",
      "    \"\"\"\n",
      "    searchq={\"p\":citeid}\n",
      "    key=urllib.urlencode(searchq)\n",
      "    response = urllib2.urlopen('http://inspirehep.net/search?ln=en&ln=en&'+key+'&of=hb&action_search=Search&sf=&so=d&rm=&rg=25&sc=0')\n",
      "    html=response.read()\n",
      "    parsed_html=BeautifulSoup(html)\n",
      "    record=parsed_html.find('a', attrs={'class':'titlelink'})\n",
      "    if (record == None):\n",
      "        print \"Citeid not found!\"\n",
      "        return \"\"\n",
      "    recordurl=record['href']\n",
      "    if 'inspirehep.net' not in recordurl:\n",
      "        bibtexurl='http://inspirehep.net'+recordurl+'/export/hx'\n",
      "    else:\n",
      "        bibtexurl=recordurl+'/export/hx'\n",
      "    response_bib=urllib2.urlopen(bibtexurl)\n",
      "    html_bib = response_bib.read()\n",
      "    parsed_html_bib = BeautifulSoup(html_bib)\n",
      "    return parsed_html_bib.find('div',attrs={'class':'pagebodystripemiddle'}).text\n",
      "\n",
      "def process_file(bibin,bibout):\n",
      "    \"\"\"\n",
      "    Go through a file bibin containing a LaTeXUS bibliography and generate a \n",
      "    BibTeX bibliography in bibout for all entries found on Inspire.\n",
      "    \"\"\"\n",
      "    bibfile = open(bibin,\"r\")\n",
      "    bibtexfile = open(bibout,\"w\")\n",
      "    for line in bibfile:\n",
      "        if \"\\cite{\" in line:\n",
      "            citeid=line.split('{')[1].split('}')[0]\n",
      "            print \"Looking up: \", citeid\n",
      "            print >> bibtexfile, get_bibtex(citeid).encode('utf8')\n",
      "        \n",
      "    bibfile.close()\n",
      "    bibtexfile.close()"
     ],
     "language": "python",
     "metadata": {},
     "outputs": [],
     "prompt_number": 4
    },
    {
     "cell_type": "code",
     "collapsed": false,
     "input": [
      "# Look up a single citeid\n",
      "print get_bibtex('Riotto:1999yt')"
     ],
     "language": "python",
     "metadata": {},
     "outputs": [
      {
       "output_type": "stream",
       "stream": "stdout",
       "text": [
        "@article{Riotto:1999yt,\n",
        "      author         = \"Riotto, Antonio and Trodden, Mark\",\n",
        "      title          = \"{Recent progress in baryogenesis}\",\n",
        "      journal        = \"Ann.Rev.Nucl.Part.Sci.\",\n",
        "      volume         = \"49\",\n",
        "      pages          = \"35-75\",\n",
        "      doi            = \"10.1146/annurev.nucl.49.1.35\",\n",
        "      year           = \"1999\",\n",
        "      eprint         = \"hep-ph/9901362\",\n",
        "      archivePrefix  = \"arXiv\",\n",
        "      primaryClass   = \"hep-ph\",\n",
        "      reportNumber   = \"CERN-TH-99-04, CWRU-P6-99\",\n",
        "      SLACcitation   = \"%%CITATION = HEP-PH/9901362;%%\",\n",
        "}\n"
       ]
      }
     ],
     "prompt_number": 5
    },
    {
     "cell_type": "code",
     "collapsed": false,
     "input": [],
     "language": "python",
     "metadata": {},
     "outputs": []
    },
    {
     "cell_type": "code",
     "collapsed": false,
     "input": [
      "# Process an entire file\n",
      "process_file('./examplebib.dat','./example.bib')"
     ],
     "language": "python",
     "metadata": {},
     "outputs": [
      {
       "output_type": "stream",
       "stream": "stdout",
       "text": [
        "Looking up:  Riotto:1999yt\n",
        "Looking up: "
       ]
      },
      {
       "output_type": "stream",
       "stream": "stdout",
       "text": [
        " Jungman:1995df\n",
        "Looking up: "
       ]
      },
      {
       "output_type": "stream",
       "stream": "stdout",
       "text": [
        " Bertone:2004pz\n",
        "Looking up: "
       ]
      },
      {
       "output_type": "stream",
       "stream": "stdout",
       "text": [
        " D'Amico:2009df\n",
        "Looking up: "
       ]
      },
      {
       "output_type": "stream",
       "stream": "stdout",
       "text": [
        " Komatsu:2010fb\n",
        "Looking up: "
       ]
      },
      {
       "output_type": "stream",
       "stream": "stdout",
       "text": [
        " Nussinov:1985xr\n",
        "Looking up: "
       ]
      },
      {
       "output_type": "stream",
       "stream": "stdout",
       "text": [
        " Barr:1990ca\n",
        "Looking up: "
       ]
      },
      {
       "output_type": "stream",
       "stream": "stdout",
       "text": [
        " Barr:1991qn\n",
        "Looking up: "
       ]
      },
      {
       "output_type": "stream",
       "stream": "stdout",
       "text": [
        " Kaplan:1991ah\n",
        "Looking up: "
       ]
      },
      {
       "output_type": "stream",
       "stream": "stdout",
       "text": [
        " Kaplan:2009ag\n",
        "Looking up: "
       ]
      },
      {
       "output_type": "stream",
       "stream": "stdout",
       "text": [
        " Kribs:2009fy\n",
        "Looking up: "
       ]
      },
      {
       "output_type": "stream",
       "stream": "stdout",
       "text": [
        " Cohen:2010kn\n",
        "Looking up: "
       ]
      },
      {
       "output_type": "stream",
       "stream": "stdout",
       "text": [
        " Hooper:2004dc\n",
        "Looking up: "
       ]
      },
      {
       "output_type": "stream",
       "stream": "stdout",
       "text": [
        " Kitano:2004sv\n",
        "Looking up: "
       ]
      },
      {
       "output_type": "stream",
       "stream": "stdout",
       "text": [
        " Kitano:2005ge\n",
        "Looking up: "
       ]
      },
      {
       "output_type": "stream",
       "stream": "stdout",
       "text": [
        " Agashe:2004bm\n",
        "Looking up: "
       ]
      },
      {
       "output_type": "stream",
       "stream": "stdout",
       "text": [
        " Farrar:2005zd\n",
        "Looking up: "
       ]
      },
      {
       "output_type": "stream",
       "stream": "stdout",
       "text": [
        " Kohri:2009yn\n",
        "Looking up: "
       ]
      },
      {
       "output_type": "stream",
       "stream": "stdout",
       "text": [
        " Shelton:2010ta\n",
        "Looking up: "
       ]
      },
      {
       "output_type": "stream",
       "stream": "stdout",
       "text": [
        " Haba:2010bm\n",
        "Looking up: "
       ]
      },
      {
       "output_type": "stream",
       "stream": "stdout",
       "text": [
        " Buckley:2010ui\n",
        "Looking up: "
       ]
      },
      {
       "output_type": "stream",
       "stream": "stdout",
       "text": [
        " Chun:2010hz\n",
        "Looking up: "
       ]
      },
      {
       "output_type": "stream",
       "stream": "stdout",
       "text": [
        " McDonald:2010rn\n",
        "Citeid not found!"
       ]
      },
      {
       "output_type": "stream",
       "stream": "stdout",
       "text": [
        "\n",
        "Looking up:  Blennow:2010qp\n",
        "Looking up: "
       ]
      },
      {
       "output_type": "stream",
       "stream": "stdout",
       "text": [
        " Hall:2010jx\n",
        "Looking up: "
       ]
      },
      {
       "output_type": "stream",
       "stream": "stdout",
       "text": [
        " Dutta:2010va\n",
        "Looking up: "
       ]
      },
      {
       "output_type": "stream",
       "stream": "stdout",
       "text": [
        " Falkowski:2011xh\n",
        "Looking up: "
       ]
      },
      {
       "output_type": "stream",
       "stream": "stdout",
       "text": [
        " Chun:2011cc\n",
        "Looking up: "
       ]
      },
      {
       "output_type": "stream",
       "stream": "stdout",
       "text": [
        " Kang:2011wb\n",
        "Looking up: "
       ]
      },
      {
       "output_type": "stream",
       "stream": "stdout",
       "text": [
        " Heckman:2011sw\n",
        "Looking up: "
       ]
      },
      {
       "output_type": "stream",
       "stream": "stdout",
       "text": [
        " Kaplan:2011yj\n",
        "Looking up: "
       ]
      },
      {
       "output_type": "stream",
       "stream": "stdout",
       "text": [
        " Frandsen:2011kt\n",
        "Looking up: "
       ]
      },
      {
       "output_type": "stream",
       "stream": "stdout",
       "text": [
        " Hook:2011tk\n",
        "Looking up: "
       ]
      },
      {
       "output_type": "stream",
       "stream": "stdout",
       "text": [
        " Bell:2011tn\n",
        "Looking up: "
       ]
      },
      {
       "output_type": "stream",
       "stream": "stdout",
       "text": [
        " Cheung:2011if\n",
        "Looking up: "
       ]
      },
      {
       "output_type": "stream",
       "stream": "stdout",
       "text": [
        " Arina:2011cu\n",
        "Looking up: "
       ]
      },
      {
       "output_type": "stream",
       "stream": "stdout",
       "text": [
        " Khlopov:2005ew\n",
        "Looking up: "
       ]
      },
      {
       "output_type": "stream",
       "stream": "stdout",
       "text": [
        " Hut:1979xw\n",
        "Looking up: "
       ]
      },
      {
       "output_type": "stream",
       "stream": "stdout",
       "text": [
        " Dodelson:1989cq\n",
        "Looking up: "
       ]
      },
      {
       "output_type": "stream",
       "stream": "stdout",
       "text": [
        " Kuzmin:1996he\n",
        "Looking up: "
       ]
      },
      {
       "output_type": "stream",
       "stream": "stdout",
       "text": [
        " Gu:2007cw\n",
        "Looking up: "
       ]
      },
      {
       "output_type": "stream",
       "stream": "stdout",
       "text": [
        " Gu:2009yy\n",
        "Looking up: "
       ]
      },
      {
       "output_type": "stream",
       "stream": "stdout",
       "text": [
        " Gu:2010ft\n",
        "Looking up: "
       ]
      },
      {
       "output_type": "stream",
       "stream": "stdout",
       "text": [
        " An:2009vq\n",
        "Looking up: "
       ]
      },
      {
       "output_type": "stream",
       "stream": "stdout",
       "text": [
        " An:2010kc\n",
        "Looking up: "
       ]
      },
      {
       "output_type": "stream",
       "stream": "stdout",
       "text": [
        " Davoudiasl:2010am\n",
        "Looking up: "
       ]
      },
      {
       "output_type": "stream",
       "stream": "stdout",
       "text": [
        " Davoudiasl:2012uw\n",
        "Looking up: "
       ]
      },
      {
       "output_type": "stream",
       "stream": "stdout",
       "text": [
        " Davoudiasl:2011fj\n",
        "Looking up: "
       ]
      },
      {
       "output_type": "stream",
       "stream": "stdout",
       "text": [
        " Dimopoulos:1987rk\n",
        "Looking up: "
       ]
      },
      {
       "output_type": "stream",
       "stream": "stdout",
       "text": [
        " Cline:1990bw\n",
        "Looking up: "
       ]
      },
      {
       "output_type": "stream",
       "stream": "stdout",
       "text": [
        " Thomas:1995ze\n",
        "Looking up: "
       ]
      },
      {
       "output_type": "stream",
       "stream": "stdout",
       "text": [
        " Kitano:2008tk\n",
        "Looking up: "
       ]
      },
      {
       "output_type": "stream",
       "stream": "stdout",
       "text": [
        " Allahverdi:2010rh\n",
        "Looking up: "
       ]
      },
      {
       "output_type": "stream",
       "stream": "stdout",
       "text": [
        " Moroi:1999zb\n",
        "Looking up: "
       ]
      },
      {
       "output_type": "stream",
       "stream": "stdout",
       "text": [
        " Kobayashi:2005pe\n",
        "Looking up: "
       ]
      },
      {
       "output_type": "stream",
       "stream": "stdout",
       "text": [
        " Akiri:2011dv\n",
        "Looking up: "
       ]
      },
      {
       "output_type": "stream",
       "stream": "stdout",
       "text": [
        " IceCube:2011ac\n",
        "Looking up: "
       ]
      },
      {
       "output_type": "stream",
       "stream": "stdout",
       "text": [
        " Hewett:2012ns\n",
        "Looking up: "
       ]
      },
      {
       "output_type": "stream",
       "stream": "stdout",
       "text": [
        " Cohen:2009fz\n",
        "Looking up: "
       ]
      },
      {
       "output_type": "stream",
       "stream": "stdout",
       "text": [
        " Buckley:2011ye\n",
        "Looking up: "
       ]
      },
      {
       "output_type": "stream",
       "stream": "stdout",
       "text": [
        " Cirelli:2011ac\n",
        "Looking up: "
       ]
      },
      {
       "output_type": "stream",
       "stream": "stdout",
       "text": [
        " Tulin:2012re\n",
        "Looking up: "
       ]
      },
      {
       "output_type": "stream",
       "stream": "stdout",
       "text": [
        " Ibanez:1991hv\n",
        "Looking up: "
       ]
      },
      {
       "output_type": "stream",
       "stream": "stdout",
       "text": [
        " Krauss:1988zc\n",
        "Looking up: "
       ]
      },
      {
       "output_type": "stream",
       "stream": "stdout",
       "text": [
        " Dine:1995uk\n",
        "Looking up: "
       ]
      },
      {
       "output_type": "stream",
       "stream": "stdout",
       "text": [
        " Pospelov:2007mp\n",
        "Looking up: "
       ]
      },
      {
       "output_type": "stream",
       "stream": "stdout",
       "text": [
        " Pospelov:2008zw\n",
        "Looking up: "
       ]
      },
      {
       "output_type": "stream",
       "stream": "stdout",
       "text": [
        " Bjorken:2009mm\n",
        "Looking up: "
       ]
      },
      {
       "output_type": "stream",
       "stream": "stdout",
       "text": [
        " Batell:2009yf\n",
        "Looking up: "
       ]
      },
      {
       "output_type": "stream",
       "stream": "stdout",
       "text": [
        " Chan:2011aa\n",
        "Looking up: "
       ]
      },
      {
       "output_type": "stream",
       "stream": "stdout",
       "text": [
        " Graesser:2011wi\n",
        "Looking up: "
       ]
      },
      {
       "output_type": "stream",
       "stream": "stdout",
       "text": [
        " Iminniyaz:2011yp\n",
        "Looking up: "
       ]
      },
      {
       "output_type": "stream",
       "stream": "stdout",
       "text": [
        " Allahverdi:2010im\n",
        "Looking up: "
       ]
      },
      {
       "output_type": "stream",
       "stream": "stdout",
       "text": [
        " Acharya:2010af\n",
        "Looking up: "
       ]
      },
      {
       "output_type": "stream",
       "stream": "stdout",
       "text": [
        " Chung:1998rq\n",
        "Looking up: "
       ]
      },
      {
       "output_type": "stream",
       "stream": "stdout",
       "text": [
        " Giudice:2000ex\n",
        "Looking up: "
       ]
      },
      {
       "output_type": "stream",
       "stream": "stdout",
       "text": [
        " Lin:2011gj\n",
        "Looking up: "
       ]
      },
      {
       "output_type": "stream",
       "stream": "stdout",
       "text": [
        " Ellwanger:2012yg\n",
        "Looking up: "
       ]
      },
      {
       "output_type": "stream",
       "stream": "stdout",
       "text": [
        " Baumgart:2009tn\n",
        "Looking up: "
       ]
      },
      {
       "output_type": "stream",
       "stream": "stdout",
       "text": [
        " Morrissey:2009ur\n",
        "Looking up: "
       ]
      },
      {
       "output_type": "stream",
       "stream": "stdout",
       "text": [
        " Kumar:2011nj\n",
        "Looking up: "
       ]
      },
      {
       "output_type": "stream",
       "stream": "stdout",
       "text": [
        " Kachru:2003aw\n",
        "Looking up: "
       ]
      },
      {
       "output_type": "stream",
       "stream": "stdout",
       "text": [
        " Kallosh:2006dv\n",
        "Looking up: "
       ]
      },
      {
       "output_type": "stream",
       "stream": "stdout",
       "text": [
        " Fan:2011ua\n",
        "Looking up: "
       ]
      },
      {
       "output_type": "stream",
       "stream": "stdout",
       "text": [
        " Randall:1998uk\n",
        "Looking up: "
       ]
      },
      {
       "output_type": "stream",
       "stream": "stdout",
       "text": [
        " Giudice:1998xp\n",
        "Looking up: "
       ]
      },
      {
       "output_type": "stream",
       "stream": "stdout",
       "text": [
        " Feng:2011uf\n",
        "Looking up: "
       ]
      },
      {
       "output_type": "stream",
       "stream": "stdout",
       "text": [
        " Feng:2011in\n",
        "Looking up: "
       ]
      },
      {
       "output_type": "stream",
       "stream": "stdout",
       "text": [
        " Pomarol:1999ie\n",
        "Looking up: "
       ]
      },
      {
       "output_type": "stream",
       "stream": "stdout",
       "text": [
        " Chacko:1999am\n",
        "Looking up: "
       ]
      },
      {
       "output_type": "stream",
       "stream": "stdout",
       "text": [
        " Claudson:1981gh\n",
        "Looking up: "
       ]
      },
      {
       "output_type": "stream",
       "stream": "stdout",
       "text": [
        " Aoki:2008ku\n",
        "Looking up: "
       ]
      },
      {
       "output_type": "stream",
       "stream": "stdout",
       "text": [
        " Reece:2009un\n",
        "Looking up: "
       ]
      },
      {
       "output_type": "stream",
       "stream": "stdout",
       "text": [
        " Merkel:2011ze\n",
        "Looking up: "
       ]
      },
      {
       "output_type": "stream",
       "stream": "stdout",
       "text": [
        " Abrahamyan:2011gv\n",
        "Looking up: "
       ]
      },
      {
       "output_type": "stream",
       "stream": "stdout",
       "text": [
        " Andreas:2010tp\n",
        "Looking up: "
       ]
      },
      {
       "output_type": "stream",
       "stream": "stdout",
       "text": [
        " Aalseth:2010vx\n",
        "Looking up: "
       ]
      },
      {
       "output_type": "stream",
       "stream": "stdout",
       "text": [
        " Akerib:2010pv\n",
        "Looking up: "
       ]
      },
      {
       "output_type": "stream",
       "stream": "stdout",
       "text": [
        " Ahmed:2010wy\n",
        "Looking up: "
       ]
      },
      {
       "output_type": "stream",
       "stream": "stdout",
       "text": [
        " Angle:2011th\n",
        "Looking up: "
       ]
      },
      {
       "output_type": "stream",
       "stream": "stdout",
       "text": [
        " Aprile:2011hi\n",
        "Looking up: "
       ]
      },
      {
       "output_type": "stream",
       "stream": "stdout",
       "text": [
        " Angloher:2002in\n",
        "Looking up: "
       ]
      },
      {
       "output_type": "stream",
       "stream": "stdout",
       "text": [
        " Essig:2011nj\n",
        "Looking up: "
       ]
      },
      {
       "output_type": "stream",
       "stream": "stdout",
       "text": [
        " atlas-monoj\n",
        "Citeid not found!"
       ]
      },
      {
       "output_type": "stream",
       "stream": "stdout",
       "text": [
        "\n",
        "Looking up:  Aaltonen:2012jb\n",
        "Looking up: "
       ]
      },
      {
       "output_type": "stream",
       "stream": "stdout",
       "text": [
        " atlas-qcontact\n",
        "Citeid not found!"
       ]
      },
      {
       "output_type": "stream",
       "stream": "stdout",
       "text": [
        "\n",
        "Looking up:  Chatrchyan:2012bf\n",
        "Looking up: "
       ]
      },
      {
       "output_type": "stream",
       "stream": "stdout",
       "text": [
        " Chatrchyan:2011ns\n"
       ]
      }
     ],
     "prompt_number": 6
    },
    {
     "cell_type": "code",
     "collapsed": false,
     "input": [],
     "language": "python",
     "metadata": {},
     "outputs": []
    }
   ],
   "metadata": {}
  }
 ]
}